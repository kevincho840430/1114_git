{
 "cells": [
  {
   "cell_type": "code",
   "execution_count": 38,
   "metadata": {},
   "outputs": [],
   "source": [
    "import pandas as pd\n",
    "import numpy as np"
   ]
  },
  {
   "cell_type": "code",
   "execution_count": 39,
   "metadata": {},
   "outputs": [],
   "source": [
    "df = pd.read_csv('123.csv')"
   ]
  },
  {
   "cell_type": "code",
   "execution_count": 40,
   "metadata": {},
   "outputs": [],
   "source": [
    "df = df.dropna()"
   ]
  },
  {
   "cell_type": "code",
   "execution_count": 41,
   "metadata": {},
   "outputs": [
    {
     "data": {
      "text/html": [
       "<div>\n",
       "<style scoped>\n",
       "    .dataframe tbody tr th:only-of-type {\n",
       "        vertical-align: middle;\n",
       "    }\n",
       "\n",
       "    .dataframe tbody tr th {\n",
       "        vertical-align: top;\n",
       "    }\n",
       "\n",
       "    .dataframe thead th {\n",
       "        text-align: right;\n",
       "    }\n",
       "</style>\n",
       "<table border=\"1\" class=\"dataframe\">\n",
       "  <thead>\n",
       "    <tr style=\"text-align: right;\">\n",
       "      <th></th>\n",
       "      <th>start_time</th>\n",
       "      <th>end_time</th>\n",
       "      <th>cnt_time</th>\n",
       "    </tr>\n",
       "  </thead>\n",
       "  <tbody>\n",
       "    <tr>\n",
       "      <th>1</th>\n",
       "      <td>2021/10/16 17:00</td>\n",
       "      <td>2021/10/16 17:01</td>\n",
       "      <td>00:01:00</td>\n",
       "    </tr>\n",
       "    <tr>\n",
       "      <th>3</th>\n",
       "      <td>2021/10/16 17:00</td>\n",
       "      <td>2021/10/16 17:03</td>\n",
       "      <td>00:01:44</td>\n",
       "    </tr>\n",
       "    <tr>\n",
       "      <th>5</th>\n",
       "      <td>2021/10/16 17:00</td>\n",
       "      <td>2021/10/16 17:05</td>\n",
       "      <td>00:03:44</td>\n",
       "    </tr>\n",
       "  </tbody>\n",
       "</table>\n",
       "</div>"
      ],
      "text/plain": [
       "         start_time          end_time  cnt_time\n",
       "1  2021/10/16 17:00  2021/10/16 17:01  00:01:00\n",
       "3  2021/10/16 17:00  2021/10/16 17:03  00:01:44\n",
       "5  2021/10/16 17:00  2021/10/16 17:05  00:03:44"
      ]
     },
     "execution_count": 41,
     "metadata": {},
     "output_type": "execute_result"
    }
   ],
   "source": [
    "df"
   ]
  },
  {
   "cell_type": "code",
   "execution_count": 25,
   "metadata": {},
   "outputs": [
    {
     "data": {
      "text/plain": [
       "1   2021-11-18 00:01:00\n",
       "3   2021-11-18 00:01:44\n",
       "5   2021-11-18 00:03:44\n",
       "Name: cnt_time, dtype: datetime64[ns]"
      ]
     },
     "execution_count": 25,
     "metadata": {},
     "output_type": "execute_result"
    }
   ],
   "source": [
    "pd.to_datetime(df.cnt_time)"
   ]
  },
  {
   "cell_type": "code",
   "execution_count": 42,
   "metadata": {},
   "outputs": [],
   "source": [
    "df['cnt_time_1'] = pd.to_datetime(df['cnt_time'])"
   ]
  },
  {
   "cell_type": "code",
   "execution_count": 43,
   "metadata": {},
   "outputs": [
    {
     "data": {
      "text/html": [
       "<div>\n",
       "<style scoped>\n",
       "    .dataframe tbody tr th:only-of-type {\n",
       "        vertical-align: middle;\n",
       "    }\n",
       "\n",
       "    .dataframe tbody tr th {\n",
       "        vertical-align: top;\n",
       "    }\n",
       "\n",
       "    .dataframe thead th {\n",
       "        text-align: right;\n",
       "    }\n",
       "</style>\n",
       "<table border=\"1\" class=\"dataframe\">\n",
       "  <thead>\n",
       "    <tr style=\"text-align: right;\">\n",
       "      <th></th>\n",
       "      <th>start_time</th>\n",
       "      <th>end_time</th>\n",
       "      <th>cnt_time</th>\n",
       "      <th>cnt_time_1</th>\n",
       "    </tr>\n",
       "  </thead>\n",
       "  <tbody>\n",
       "    <tr>\n",
       "      <th>1</th>\n",
       "      <td>2021/10/16 17:00</td>\n",
       "      <td>2021/10/16 17:01</td>\n",
       "      <td>00:01:00</td>\n",
       "      <td>2021-11-18 00:01:00</td>\n",
       "    </tr>\n",
       "    <tr>\n",
       "      <th>3</th>\n",
       "      <td>2021/10/16 17:00</td>\n",
       "      <td>2021/10/16 17:03</td>\n",
       "      <td>00:01:44</td>\n",
       "      <td>2021-11-18 00:01:44</td>\n",
       "    </tr>\n",
       "    <tr>\n",
       "      <th>5</th>\n",
       "      <td>2021/10/16 17:00</td>\n",
       "      <td>2021/10/16 17:05</td>\n",
       "      <td>00:03:44</td>\n",
       "      <td>2021-11-18 00:03:44</td>\n",
       "    </tr>\n",
       "  </tbody>\n",
       "</table>\n",
       "</div>"
      ],
      "text/plain": [
       "         start_time          end_time  cnt_time          cnt_time_1\n",
       "1  2021/10/16 17:00  2021/10/16 17:01  00:01:00 2021-11-18 00:01:00\n",
       "3  2021/10/16 17:00  2021/10/16 17:03  00:01:44 2021-11-18 00:01:44\n",
       "5  2021/10/16 17:00  2021/10/16 17:05  00:03:44 2021-11-18 00:03:44"
      ]
     },
     "execution_count": 43,
     "metadata": {},
     "output_type": "execute_result"
    }
   ],
   "source": [
    "df"
   ]
  },
  {
   "cell_type": "code",
   "execution_count": 30,
   "metadata": {},
   "outputs": [],
   "source": [
    "# Generating a sample of 10000 timestamps and selecting 500 to randomize them\n",
    "df_1 = pd.DataFrame(np.random.choice(pd.date_range(start=pd.to_datetime('2015-01-14'),periods = 10000, freq='S'), 500),  columns=['date'])\n"
   ]
  },
  {
   "cell_type": "code",
   "execution_count": null,
   "metadata": {},
   "outputs": [],
   "source": [
    "# Setting the date as the index since the TimeGrouper works on Index, the date column is not dropped to be able to count\n",
    "df.set_index('date', drop=False, inplace=True)\n",
    "# Getting the histogram\n",
    "df.groupby(pd.TimeGrouper(freq='10Min')).count().plot(kind='bar')"
   ]
  },
  {
   "cell_type": "code",
   "execution_count": 37,
   "metadata": {},
   "outputs": [
    {
     "data": {
      "text/html": [
       "<div>\n",
       "<style scoped>\n",
       "    .dataframe tbody tr th:only-of-type {\n",
       "        vertical-align: middle;\n",
       "    }\n",
       "\n",
       "    .dataframe tbody tr th {\n",
       "        vertical-align: top;\n",
       "    }\n",
       "\n",
       "    .dataframe thead th {\n",
       "        text-align: right;\n",
       "    }\n",
       "</style>\n",
       "<table border=\"1\" class=\"dataframe\">\n",
       "  <thead>\n",
       "    <tr style=\"text-align: right;\">\n",
       "      <th></th>\n",
       "      <th>start_time</th>\n",
       "      <th>end_time</th>\n",
       "      <th>cnt_time</th>\n",
       "    </tr>\n",
       "    <tr>\n",
       "      <th>cnt_time</th>\n",
       "      <th></th>\n",
       "      <th></th>\n",
       "      <th></th>\n",
       "    </tr>\n",
       "  </thead>\n",
       "  <tbody>\n",
       "    <tr>\n",
       "      <th>2021-11-18 00:01:00</th>\n",
       "      <td>2021/10/16 17:00</td>\n",
       "      <td>2021/10/16 17:01</td>\n",
       "      <td>2021-11-18 00:01:00</td>\n",
       "    </tr>\n",
       "    <tr>\n",
       "      <th>2021-11-18 00:01:44</th>\n",
       "      <td>2021/10/16 17:00</td>\n",
       "      <td>2021/10/16 17:03</td>\n",
       "      <td>2021-11-18 00:01:44</td>\n",
       "    </tr>\n",
       "    <tr>\n",
       "      <th>2021-11-18 00:03:44</th>\n",
       "      <td>2021/10/16 17:00</td>\n",
       "      <td>2021/10/16 17:05</td>\n",
       "      <td>2021-11-18 00:03:44</td>\n",
       "    </tr>\n",
       "  </tbody>\n",
       "</table>\n",
       "</div>"
      ],
      "text/plain": [
       "                           start_time          end_time            cnt_time\n",
       "cnt_time                                                                   \n",
       "2021-11-18 00:01:00  2021/10/16 17:00  2021/10/16 17:01 2021-11-18 00:01:00\n",
       "2021-11-18 00:01:44  2021/10/16 17:00  2021/10/16 17:03 2021-11-18 00:01:44\n",
       "2021-11-18 00:03:44  2021/10/16 17:00  2021/10/16 17:05 2021-11-18 00:03:44"
      ]
     },
     "execution_count": 37,
     "metadata": {},
     "output_type": "execute_result"
    }
   ],
   "source": [
    "df"
   ]
  },
  {
   "cell_type": "code",
   "execution_count": 45,
   "metadata": {},
   "outputs": [],
   "source": [
    "df_1 = df[['cnt_time_1']]"
   ]
  },
  {
   "cell_type": "code",
   "execution_count": 47,
   "metadata": {},
   "outputs": [
    {
     "name": "stderr",
     "output_type": "stream",
     "text": [
      "/Library/Frameworks/Python.framework/Versions/3.6/lib/python3.6/site-packages/ipykernel_launcher.py:4: FutureWarning: pd.TimeGrouper is deprecated and will be removed; Please use pd.Grouper(freq=...)\n",
      "  after removing the cwd from sys.path.\n"
     ]
    },
    {
     "data": {
      "text/plain": [
       "<AxesSubplot:xlabel='cnt_time_1'>"
      ]
     },
     "execution_count": 47,
     "metadata": {},
     "output_type": "execute_result"
    },
    {
     "data": {
      "image/png": "[encoded data removed]",
      "text/plain": [
       "<Figure size 432x288 with 1 Axes>"
      ]
     },
     "metadata": {
      "needs_background": "light"
     },
     "output_type": "display_data"
    }
   ],
   "source": [
    "# Setting the date as the index since the TimeGrouper works on Index, the date column is not dropped to be able to count\n",
    "df_1.set_index('cnt_time_1', drop=False, inplace=True)\n",
    "# Getting the histogram\n",
    "df_1.groupby(pd.TimeGrouper(freq='1Min')).count().plot(kind='bar')"
   ]
  },
  {
   "cell_type": "code",
   "execution_count": null,
   "metadata": {},
   "outputs": [],
   "source": []
  }
 ],
 "metadata": {
  "kernelspec": {
   "display_name": "Python 3",
   "language": "python",
   "name": "python3"
  },
  "language_info": {
   "codemirror_mode": {
    "name": "ipython",
    "version": 3
   },
   "file_extension": ".py",
   "mimetype": "text/x-python",
   "name": "python",
   "nbconvert_exporter": "python",
   "pygments_lexer": "ipython3",
   "version": "3.6.5"
  }
 },
 "nbformat": 4,
 "nbformat_minor": 2
}
